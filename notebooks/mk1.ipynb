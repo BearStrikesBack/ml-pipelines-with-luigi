{
 "cells": [
  {
   "cell_type": "markdown",
   "metadata": {},
   "source": [
    "## Abstract\n",
    "\n",
    "**An important part of this challenge is to assess and explain the model to a fictional client with limited statistical knowledge. So your evaluation should include some plots on how your model makes the predictions. Finally you need to give an essesment if it will make sense for the client to implement this model!**\n",
    "\n",
    "### Challenge\n",
    "To put things into the right perspective consider the following fictional scenario:\n",
    "\n",
    "You are a AI Consultant at Data Revenue. One of our clients is a big online wine seller. After a successful strategic consulting we advice the client to optimize his portfolio by creating a rating predictor (predict points given to a wine) for his inventory. We receive a sample dataset (10k rows) from the client and will come back in a week to evaluate our model on a bigger data set that is only accessible from on-premise servers (>100k rows).\n",
    "\n",
    "The task is to show that a good prediction is possible and thereby make it less risky to implement a full production solution. Our mini pipeline should later be able to run on their on premise machine which has only docker and docker-compose installed.\n",
    "\n",
    "## Linear Regression"
   ]
  },
  {
   "cell_type": "code",
   "execution_count": 13,
   "metadata": {
    "ExecuteTime": {
     "end_time": "2021-04-29T07:15:42.192722Z",
     "start_time": "2021-04-29T07:15:41.171622Z"
    }
   },
   "outputs": [],
   "source": [
    "import os\n",
    "\n",
    "import pandas as pd\n",
    "import numpy as np\n",
    "import matplotlib.pyplot as plt\n",
    "import seaborn as sns\n",
    "\n",
    "from sklearn import linear_model\n",
    "from sklearn.metrics import mean_squared_error, mean_absolute_error\n",
    "from scipy.stats import norm\n",
    "\n",
    "\n",
    "sns.set()"
   ]
  },
  {
   "cell_type": "code",
   "execution_count": 14,
   "metadata": {
    "ExecuteTime": {
     "end_time": "2021-04-29T07:15:42.254696Z",
     "start_time": "2021-04-29T07:15:42.193698Z"
    }
   },
   "outputs": [
    {
     "data": {
      "text/html": [
       "<div>\n",
       "<style scoped>\n",
       "    .dataframe tbody tr th:only-of-type {\n",
       "        vertical-align: middle;\n",
       "    }\n",
       "\n",
       "    .dataframe tbody tr th {\n",
       "        vertical-align: top;\n",
       "    }\n",
       "\n",
       "    .dataframe thead th {\n",
       "        text-align: right;\n",
       "    }\n",
       "</style>\n",
       "<table border=\"1\" class=\"dataframe\">\n",
       "  <thead>\n",
       "    <tr style=\"text-align: right;\">\n",
       "      <th></th>\n",
       "      <th>Unnamed: 0</th>\n",
       "      <th>country</th>\n",
       "      <th>description</th>\n",
       "      <th>designation</th>\n",
       "      <th>points</th>\n",
       "      <th>price</th>\n",
       "      <th>province</th>\n",
       "      <th>region_1</th>\n",
       "      <th>region_2</th>\n",
       "      <th>taster_name</th>\n",
       "      <th>taster_twitter_handle</th>\n",
       "      <th>title</th>\n",
       "      <th>variety</th>\n",
       "      <th>winery</th>\n",
       "    </tr>\n",
       "  </thead>\n",
       "  <tbody>\n",
       "    <tr>\n",
       "      <th>0</th>\n",
       "      <td>0</td>\n",
       "      <td>Italy</td>\n",
       "      <td>Fragrances suggest hay, crushed tomato vine an...</td>\n",
       "      <td>Kirchleiten</td>\n",
       "      <td>90</td>\n",
       "      <td>30.0</td>\n",
       "      <td>Northeastern Italy</td>\n",
       "      <td>Alto Adige</td>\n",
       "      <td>NaN</td>\n",
       "      <td>Kerin O’Keefe</td>\n",
       "      <td>@kerinokeefe</td>\n",
       "      <td>Tiefenbrunner 2012 Kirchleiten Sauvignon (Alto...</td>\n",
       "      <td>Sauvignon</td>\n",
       "      <td>Tiefenbrunner</td>\n",
       "    </tr>\n",
       "    <tr>\n",
       "      <th>1</th>\n",
       "      <td>1</td>\n",
       "      <td>France</td>\n",
       "      <td>Packed with fruit and crisp acidity, this is a...</td>\n",
       "      <td>NaN</td>\n",
       "      <td>87</td>\n",
       "      <td>22.0</td>\n",
       "      <td>Loire Valley</td>\n",
       "      <td>Sancerre</td>\n",
       "      <td>NaN</td>\n",
       "      <td>Roger Voss</td>\n",
       "      <td>@vossroger</td>\n",
       "      <td>Bernard Reverdy et Fils 2014 Rosé (Sancerre)</td>\n",
       "      <td>Rosé</td>\n",
       "      <td>Bernard Reverdy et Fils</td>\n",
       "    </tr>\n",
       "  </tbody>\n",
       "</table>\n",
       "</div>"
      ],
      "text/plain": [
       "   Unnamed: 0 country                                        description  \\\n",
       "0           0   Italy  Fragrances suggest hay, crushed tomato vine an...   \n",
       "1           1  France  Packed with fruit and crisp acidity, this is a...   \n",
       "\n",
       "   designation  points  price            province    region_1 region_2  \\\n",
       "0  Kirchleiten      90   30.0  Northeastern Italy  Alto Adige      NaN   \n",
       "1          NaN      87   22.0        Loire Valley    Sancerre      NaN   \n",
       "\n",
       "     taster_name taster_twitter_handle  \\\n",
       "0  Kerin O’Keefe          @kerinokeefe   \n",
       "1     Roger Voss            @vossroger   \n",
       "\n",
       "                                               title    variety  \\\n",
       "0  Tiefenbrunner 2012 Kirchleiten Sauvignon (Alto...  Sauvignon   \n",
       "1       Bernard Reverdy et Fils 2014 Rosé (Sancerre)       Rosé   \n",
       "\n",
       "                    winery  \n",
       "0            Tiefenbrunner  \n",
       "1  Bernard Reverdy et Fils  "
      ]
     },
     "execution_count": 14,
     "metadata": {},
     "output_type": "execute_result"
    }
   ],
   "source": [
    "PATH = os.path.abspath(os.path.join(os.getcwd(), os.pardir))\n",
    "\n",
    "data = pd.read_csv(PATH + '/data_root/raw/wine_dataset.csv')\n",
    "data.head(2)"
   ]
  },
  {
   "cell_type": "code",
   "execution_count": 15,
   "metadata": {
    "ExecuteTime": {
     "end_time": "2021-04-29T07:15:42.488726Z",
     "start_time": "2021-04-29T07:15:42.255696Z"
    }
   },
   "outputs": [
    {
     "data": {
      "image/png": "[encoded data removed]",
      "text/plain": [
       "<Figure size 432x288 with 1 Axes>"
      ]
     },
     "metadata": {},
     "output_type": "display_data"
    }
   ],
   "source": [
    "plt.figure(figsize=(6, 4))\n",
    "sns.scatterplot(data=data, x=\"points\", y=\"price\")\n",
    "plt.xlabel(\"Points\")\n",
    "plt.ylabel(\"Price\")\n",
    "plt.show()"
   ]
  },
  {
   "cell_type": "code",
   "execution_count": 16,
   "metadata": {
    "ExecuteTime": {
     "end_time": "2021-04-29T07:15:42.878548Z",
     "start_time": "2021-04-29T07:15:42.489696Z"
    }
   },
   "outputs": [
    {
     "data": {
      "image/png": "[encoded data removed]",
      "text/plain": [
       "<Figure size 720x576 with 1 Axes>"
      ]
     },
     "metadata": {},
     "output_type": "display_data"
    }
   ],
   "source": [
    "plt.figure(figsize=(10, 8))\n",
    "sns.boxplot(x=\"points\", y=\"price\", data=data)\n",
    "plt.show()"
   ]
  },
  {
   "cell_type": "code",
   "execution_count": 17,
   "metadata": {
    "ExecuteTime": {
     "end_time": "2021-04-29T07:15:43.661338Z",
     "start_time": "2021-04-29T07:15:42.879548Z"
    }
   },
   "outputs": [
    {
     "data": {
      "image/png": "[encoded data removed]",
      "text/plain": [
       "<Figure size 576x432 with 1 Axes>"
      ]
     },
     "metadata": {},
     "output_type": "display_data"
    }
   ],
   "source": [
    "price_1 = data[(data['points'] == 87)&(~data['price'].isnull())]['price'].values\n",
    "price_2 = data[(data['points'] == 89)&(~data['price'].isnull())]['price'].values\n",
    "\n",
    "clt1 = []\n",
    "clt2 = []\n",
    "\n",
    "for i in range(10000):\n",
    "    clt1.append(np.mean(np.random.choice(price_1, size=100)))\n",
    "    clt2.append(np.mean(np.random.choice(price_2, size=100)))\n",
    "    \n",
    "plt.figure(figsize=(8, 6))\n",
    "plt.hist(clt1, bins=50)\n",
    "plt.hist(clt2, color='r', bins=50, alpha=0.6)\n",
    "plt.xlabel(\"Price\")\n",
    "plt.ylabel(\"Freq\")\n",
    "plt.title(f\"Freq of mean prices\")\n",
    "plt.legend(['Price is 87', 'Price is 89'])\n",
    "plt.show()"
   ]
  },
  {
   "cell_type": "code",
   "execution_count": 18,
   "metadata": {
    "ExecuteTime": {
     "end_time": "2021-04-29T07:15:43.691326Z",
     "start_time": "2021-04-29T07:15:43.662313Z"
    }
   },
   "outputs": [
    {
     "data": {
      "text/plain": [
       "0.06407675481056398"
      ]
     },
     "execution_count": 18,
     "metadata": {},
     "output_type": "execute_result"
    }
   ],
   "source": [
    "pos = np.array(sorted(clt1))[np.array(sorted(clt1)) >= 27.5].shape[0]\n",
    "norm.pdf(sorted(clt1), loc=np.mean(clt1), scale=np.std(clt1))[10000 - pos]"
   ]
  },
  {
   "cell_type": "code",
   "execution_count": 19,
   "metadata": {
    "ExecuteTime": {
     "end_time": "2021-04-29T07:15:44.016970Z",
     "start_time": "2021-04-29T07:15:43.692313Z"
    }
   },
   "outputs": [
    {
     "data": {
      "image/png": "[encoded data removed]",
      "text/plain": [
       "<Figure size 432x288 with 1 Axes>"
      ]
     },
     "metadata": {},
     "output_type": "display_data"
    },
    {
     "data": {
      "image/png": "[encoded data removed]",
      "text/plain": [
       "<Figure size 432x288 with 1 Axes>"
      ]
     },
     "metadata": {},
     "output_type": "display_data"
    }
   ],
   "source": [
    "avg_price = data.groupby('points')['price'].mean().values\n",
    "median_price = data.groupby('points')['price'].median().values\n",
    "idx = data.groupby('points')['price'].mean().index.values\n",
    "\n",
    "plt.figure(figsize=(6, 4))\n",
    "plt.scatter(idx, avg_price)\n",
    "plt.scatter(idx, median_price, c='red')\n",
    "plt.xlabel(\"Points\")\n",
    "plt.ylabel(\"Avg Price\")\n",
    "plt.show()\n",
    "\n",
    "plt.figure(figsize=(6, 4))\n",
    "plt.scatter(idx[:-5], avg_price[:-5])\n",
    "plt.scatter(idx[:-5], median_price[:-5], c='red')\n",
    "plt.xlabel(\"Points\")\n",
    "plt.ylabel(\"Avg Price\")\n",
    "plt.show()"
   ]
  },
  {
   "cell_type": "code",
   "execution_count": 20,
   "metadata": {
    "ExecuteTime": {
     "end_time": "2021-04-29T07:15:44.327592Z",
     "start_time": "2021-04-29T07:15:44.017971Z"
    }
   },
   "outputs": [
    {
     "data": {
      "image/png": "[encoded data removed]",
      "text/plain": [
       "<Figure size 432x288 with 1 Axes>"
      ]
     },
     "metadata": {},
     "output_type": "display_data"
    },
    {
     "data": {
      "image/png": "[encoded data removed]",
      "text/plain": [
       "<Figure size 432x288 with 1 Axes>"
      ]
     },
     "metadata": {},
     "output_type": "display_data"
    }
   ],
   "source": [
    "plt.figure(figsize=(6, 4))\n",
    "plt.scatter(idx[3:-5], avg_price[3:-5])\n",
    "plt.scatter(idx[3:-5], median_price[3:-5], c='red')\n",
    "plt.xlabel(\"Points\")\n",
    "plt.ylabel(\"Median Price\")\n",
    "plt.title(f\"Correlation for means is: {np.round(pd.Series(idx[3:-5]).corr(pd.Series(avg_price[3:-5])), 2)}\\n\\\n",
    "Correlation for medians is: {np.round(pd.Series(idx[3:-5]).corr(pd.Series(median_price[3:-5])), 2)}\")\n",
    "plt.show()\n",
    "\n",
    "plt.figure(figsize=(6, 4))\n",
    "plt.scatter(idx[3:-5], np.log(avg_price[3:-5]))\n",
    "plt.scatter(idx[3:-5], np.log(median_price[3:-5]), c='red')\n",
    "plt.xlabel(\"Points\")\n",
    "plt.ylabel(\"Log of Median Price\")\n",
    "plt.title(f\"Correlation for log(means) is: {np.round(pd.Series(idx[3:-5]).corr(pd.Series(np.log(avg_price[3:-5]))), 2)}\\n\\\n",
    "Correlation for log(medians) is: {np.round(pd.Series(idx[3:-5]).corr(pd.Series(np.log(median_price[3:-5]))), 2)}\")\n",
    "plt.show()"
   ]
  },
  {
   "cell_type": "code",
   "execution_count": 21,
   "metadata": {
    "ExecuteTime": {
     "end_time": "2021-04-29T07:15:44.343593Z",
     "start_time": "2021-04-29T07:15:44.328568Z"
    }
   },
   "outputs": [],
   "source": [
    "no_nans = data.copy()\n",
    "no_nans.loc[no_nans['price'].isnull(), 'price'] = no_nans['price'].mean()\n",
    "no_nans['price'] = np.log(no_nans['price'])\n",
    "\n",
    "test_size = 0.3\n",
    "split_value = int(np.round(data.shape[0] * test_size, 0))\n",
    "\n",
    "X_train = no_nans['price'][:-split_value].values.reshape(-1, 1)\n",
    "X_test = no_nans['price'][-split_value:].values.reshape(-1, 1)\n",
    "y_train = no_nans['points'][:-split_value].values.reshape(-1, 1)\n",
    "y_test = no_nans['points'][-split_value:].values.reshape(-1, 1)\n",
    "\n",
    "r = linear_model.LinearRegression()\n",
    "\n",
    "r.fit(X_train, y_train)\n",
    "y_pred = r.predict(X_test)"
   ]
  },
  {
   "cell_type": "code",
   "execution_count": 22,
   "metadata": {
    "ExecuteTime": {
     "end_time": "2021-04-29T07:15:45.409782Z",
     "start_time": "2021-04-29T07:15:45.400787Z"
    }
   },
   "outputs": [
    {
     "name": "stdout",
     "output_type": "stream",
     "text": [
      "Coefficient is: 2.8009709420029396 \n",
      "Intercept is: 79.1484482153131\n",
      "\n",
      "MSE: 6.00\n",
      "MAE: 1.96\n"
     ]
    }
   ],
   "source": [
    "print('Coefficient is:', list(*r.coef_)[0], '\\nIntercept is:', list(r.intercept_)[0], end='\\n\\n')\n",
    "print(f'MSE: {mean_squared_error(y_test, y_pred):.2f}')\n",
    "print(f'MAE: {mean_absolute_error(y_test, y_pred):.2f}')"
   ]
  },
  {
   "cell_type": "code",
   "execution_count": 23,
   "metadata": {
    "ExecuteTime": {
     "end_time": "2021-04-29T07:15:45.596732Z",
     "start_time": "2021-04-29T07:15:45.588723Z"
    }
   },
   "outputs": [
    {
     "name": "stdout",
     "output_type": "stream",
     "text": [
      "Naive approach (linear model from logarithm of the price) is not only good,\n",
      "but robust on whole dataset as well:\n",
      "MSE on whole dataset: 6.01 \n",
      "MAE on whole dataset: 1.96\n"
     ]
    }
   ],
   "source": [
    "print(f\"Naive approach (linear model from logarithm of the price) is not only good,\\n\\\n",
    "but robust on whole dataset as well:\\n\\\n",
    "MSE on whole dataset: {mean_squared_error(no_nans['points'], 79.15 + no_nans['price'] * 2.8):.2f} \\n\\\n",
    "MAE on whole dataset: {mean_absolute_error(no_nans['points'], 79.15 + no_nans['price'] * 2.8):.2f}\")"
   ]
  },
  {
   "cell_type": "markdown",
   "metadata": {},
   "source": [
    "No need for ML as `np.log(price)` nicely approximates target variable. The more data we have, the more accurate and robust such estimator will be. Having only 10k dataset, we might say that target values [80:83]$\\cup$[96:] serve as an outliers. (Low quantity of observations, high variance). Having more observations, probably, will fix it."
   ]
  },
  {
   "cell_type": "code",
   "execution_count": 24,
   "metadata": {
    "ExecuteTime": {
     "end_time": "2021-04-29T07:15:47.774557Z",
     "start_time": "2021-04-29T07:15:47.576555Z"
    }
   },
   "outputs": [
    {
     "data": {
      "image/png": "[encoded data removed]",
      "text/plain": [
       "<Figure size 432x288 with 1 Axes>"
      ]
     },
     "metadata": {},
     "output_type": "display_data"
    }
   ],
   "source": [
    "residuals_lr = y_test - y_pred\n",
    "\n",
    "plt.figure(figsize=(6, 4))\n",
    "plt.hist(residuals_lr, bins=40)\n",
    "plt.xlabel(\"Residuals\")\n",
    "plt.ylabel(\"Freq\")\n",
    "plt.title(f\"Residuals distribution\")\n",
    "plt.show()"
   ]
  },
  {
   "cell_type": "markdown",
   "metadata": {},
   "source": [
    "## Dask LR\n",
    "\n",
    "Main idea is to replicate experiments using Dask Framework."
   ]
  },
  {
   "cell_type": "code",
   "execution_count": 171,
   "metadata": {
    "ExecuteTime": {
     "end_time": "2021-04-26T15:17:21.193039Z",
     "start_time": "2021-04-26T15:17:20.706813Z"
    }
   },
   "outputs": [],
   "source": [
    "import dask as dd\n",
    "\n",
    "from dask.distributed import Client\n",
    "from dask_ml.model_selection import train_test_split\n",
    "from dask_ml.linear_model import LinearRegression\n",
    "from dask_ml.metrics import mean_squared_error, mean_absolute_error"
   ]
  },
  {
   "cell_type": "code",
   "execution_count": 172,
   "metadata": {
    "ExecuteTime": {
     "end_time": "2021-04-26T15:17:21.629005Z",
     "start_time": "2021-04-26T15:17:21.194005Z"
    }
   },
   "outputs": [
    {
     "data": {
      "text/html": [
       "<table style=\"border: 2px solid white;\">\n",
       "<tr>\n",
       "<td style=\"vertical-align: top; border: 0px solid white\">\n",
       "<h3 style=\"text-align: left;\">Client</h3>\n",
       "<ul style=\"text-align: left; list-style: none; margin: 0; padding: 0;\">\n",
       "  <li><b>Scheduler: </b>inproc://192.168.0.11/18456/1</li>\n",
       "  <li><b>Dashboard: </b><a href='http://192.168.0.11:8787/status' target='_blank'>http://192.168.0.11:8787/status</a></li>\n",
       "</ul>\n",
       "</td>\n",
       "<td style=\"vertical-align: top; border: 0px solid white\">\n",
       "<h3 style=\"text-align: left;\">Cluster</h3>\n",
       "<ul style=\"text-align: left; list-style:none; margin: 0; padding: 0;\">\n",
       "  <li><b>Workers: </b>1</li>\n",
       "  <li><b>Cores: </b>4</li>\n",
       "  <li><b>Memory: </b>2.00 GB</li>\n",
       "</ul>\n",
       "</td>\n",
       "</tr>\n",
       "</table>"
      ],
      "text/plain": [
       "<Client: 'inproc://192.168.0.11/18456/1' processes=1 threads=4, memory=2.00 GB>"
      ]
     },
     "execution_count": 172,
     "metadata": {},
     "output_type": "execute_result"
    }
   ],
   "source": [
    "client = Client(n_workers=1, threads_per_worker=4, processes=False, memory_limit='2GB')\n",
    "client"
   ]
  },
  {
   "cell_type": "code",
   "execution_count": 195,
   "metadata": {
    "ExecuteTime": {
     "end_time": "2021-04-26T15:24:11.106800Z",
     "start_time": "2021-04-26T15:24:11.077772Z"
    }
   },
   "outputs": [
    {
     "data": {
      "text/html": [
       "<div>\n",
       "<style scoped>\n",
       "    .dataframe tbody tr th:only-of-type {\n",
       "        vertical-align: middle;\n",
       "    }\n",
       "\n",
       "    .dataframe tbody tr th {\n",
       "        vertical-align: top;\n",
       "    }\n",
       "\n",
       "    .dataframe thead th {\n",
       "        text-align: right;\n",
       "    }\n",
       "</style>\n",
       "<table border=\"1\" class=\"dataframe\">\n",
       "  <thead>\n",
       "    <tr style=\"text-align: right;\">\n",
       "      <th></th>\n",
       "      <th>country</th>\n",
       "      <th>points</th>\n",
       "      <th>price</th>\n",
       "      <th>taster_name</th>\n",
       "    </tr>\n",
       "  </thead>\n",
       "  <tbody>\n",
       "    <tr>\n",
       "      <th>0</th>\n",
       "      <td>Italy</td>\n",
       "      <td>90</td>\n",
       "      <td>30.0</td>\n",
       "      <td>Kerin O’Keefe</td>\n",
       "    </tr>\n",
       "    <tr>\n",
       "      <th>1</th>\n",
       "      <td>France</td>\n",
       "      <td>87</td>\n",
       "      <td>22.0</td>\n",
       "      <td>Roger Voss</td>\n",
       "    </tr>\n",
       "  </tbody>\n",
       "</table>\n",
       "</div>"
      ],
      "text/plain": [
       "  country  points  price    taster_name\n",
       "0   Italy      90   30.0  Kerin O’Keefe\n",
       "1  France      87   22.0     Roger Voss"
      ]
     },
     "execution_count": 195,
     "metadata": {},
     "output_type": "execute_result"
    }
   ],
   "source": [
    "PATH = os.path.abspath(os.path.join(os.getcwd(), os.pardir))\n",
    "coltouse = ['country', 'points', 'price', 'taster_name']\n",
    "\n",
    "d = dd.dataframe.read_csv(PATH + '/data_root/raw/wine_dataset.csv', usecols=coltouse, blocksize=1024*100)\n",
    "d.head(2)"
   ]
  },
  {
   "cell_type": "code",
   "execution_count": 196,
   "metadata": {
    "ExecuteTime": {
     "end_time": "2021-04-26T15:24:16.894867Z",
     "start_time": "2021-04-26T15:24:11.821907Z"
    }
   },
   "outputs": [],
   "source": [
    "d['price'] = d['price'].fillna(d['price'].mean())\n",
    "d['price'] = np.log(d['price'])\n",
    "\n",
    "train, test = train_test_split(d, test_size = 0.3, shuffle=False)\n",
    "\n",
    "X_train = train['price'].to_dask_array(lengths=True).reshape(-1, 1)\n",
    "y_train = train['points'].to_dask_array(lengths=True).reshape(-1, 1)\n",
    "X_test = test['price'].to_dask_array(lengths=True).reshape(-1, 1)\n",
    "y_test = test['points'].to_dask_array(lengths=True).reshape(-1, 1)\n",
    "\n",
    "lr = LinearRegression()\n",
    "lr.fit(X_train, y_train)\n",
    "\n",
    "y_pred = lr.predict(X_test).reshape(-1, 1)"
   ]
  },
  {
   "cell_type": "code",
   "execution_count": 197,
   "metadata": {
    "ExecuteTime": {
     "end_time": "2021-04-26T15:24:18.435579Z",
     "start_time": "2021-04-26T15:24:16.895836Z"
    }
   },
   "outputs": [
    {
     "name": "stdout",
     "output_type": "stream",
     "text": [
      "Coefficient is: 2.796577777199405 \n",
      "Intercept is: 79.14781449945022\n",
      "\n",
      "MSE: 5.94\n",
      "MAE: 1.94\n"
     ]
    }
   ],
   "source": [
    "print('Coefficient is:', lr.coef_[0], '\\nIntercept is:', lr.intercept_, end='\\n\\n')\n",
    "print(f'MSE: {mean_squared_error(y_test, y_pred):.2f}')\n",
    "print(f'MAE: {mean_absolute_error(y_test, y_pred):.2f}')"
   ]
  },
  {
   "cell_type": "markdown",
   "metadata": {},
   "source": [
    "Seems legit. Coefficients and scores from Dask implementation are almost the same with the ones from Sklearn. (Subject to vary a bit from partition to partition)."
   ]
  },
  {
   "cell_type": "markdown",
   "metadata": {},
   "source": [
    "## Lightgbm"
   ]
  },
  {
   "cell_type": "code",
   "execution_count": 25,
   "metadata": {
    "ExecuteTime": {
     "end_time": "2021-04-29T07:15:50.707917Z",
     "start_time": "2021-04-29T07:15:50.644326Z"
    }
   },
   "outputs": [],
   "source": [
    "import os\n",
    "import re\n",
    "import joblib\n",
    "\n",
    "import pandas as pd\n",
    "import numpy as np\n",
    "import matplotlib.pyplot as plt\n",
    "import seaborn as sns\n",
    "import lightgbm as lgb\n",
    "\n",
    "from sklearn import linear_model\n",
    "from sklearn.metrics import mean_squared_error, mean_absolute_error\n",
    "from sklearn.model_selection import train_test_split\n",
    "\n",
    "\n",
    "sns.set()"
   ]
  },
  {
   "cell_type": "code",
   "execution_count": 26,
   "metadata": {
    "ExecuteTime": {
     "end_time": "2021-04-29T07:15:50.909053Z",
     "start_time": "2021-04-29T07:15:50.848714Z"
    }
   },
   "outputs": [
    {
     "data": {
      "text/html": [
       "<div>\n",
       "<style scoped>\n",
       "    .dataframe tbody tr th:only-of-type {\n",
       "        vertical-align: middle;\n",
       "    }\n",
       "\n",
       "    .dataframe tbody tr th {\n",
       "        vertical-align: top;\n",
       "    }\n",
       "\n",
       "    .dataframe thead th {\n",
       "        text-align: right;\n",
       "    }\n",
       "</style>\n",
       "<table border=\"1\" class=\"dataframe\">\n",
       "  <thead>\n",
       "    <tr style=\"text-align: right;\">\n",
       "      <th></th>\n",
       "      <th>Unnamed: 0</th>\n",
       "      <th>country</th>\n",
       "      <th>description</th>\n",
       "      <th>designation</th>\n",
       "      <th>points</th>\n",
       "      <th>price</th>\n",
       "      <th>province</th>\n",
       "      <th>region_1</th>\n",
       "      <th>region_2</th>\n",
       "      <th>taster_name</th>\n",
       "      <th>taster_twitter_handle</th>\n",
       "      <th>title</th>\n",
       "      <th>variety</th>\n",
       "      <th>winery</th>\n",
       "    </tr>\n",
       "  </thead>\n",
       "  <tbody>\n",
       "    <tr>\n",
       "      <th>0</th>\n",
       "      <td>0</td>\n",
       "      <td>Italy</td>\n",
       "      <td>Fragrances suggest hay, crushed tomato vine an...</td>\n",
       "      <td>Kirchleiten</td>\n",
       "      <td>90</td>\n",
       "      <td>30.0</td>\n",
       "      <td>Northeastern Italy</td>\n",
       "      <td>Alto Adige</td>\n",
       "      <td>NaN</td>\n",
       "      <td>Kerin O’Keefe</td>\n",
       "      <td>@kerinokeefe</td>\n",
       "      <td>Tiefenbrunner 2012 Kirchleiten Sauvignon (Alto...</td>\n",
       "      <td>Sauvignon</td>\n",
       "      <td>Tiefenbrunner</td>\n",
       "    </tr>\n",
       "    <tr>\n",
       "      <th>1</th>\n",
       "      <td>1</td>\n",
       "      <td>France</td>\n",
       "      <td>Packed with fruit and crisp acidity, this is a...</td>\n",
       "      <td>NaN</td>\n",
       "      <td>87</td>\n",
       "      <td>22.0</td>\n",
       "      <td>Loire Valley</td>\n",
       "      <td>Sancerre</td>\n",
       "      <td>NaN</td>\n",
       "      <td>Roger Voss</td>\n",
       "      <td>@vossroger</td>\n",
       "      <td>Bernard Reverdy et Fils 2014 Rosé (Sancerre)</td>\n",
       "      <td>Rosé</td>\n",
       "      <td>Bernard Reverdy et Fils</td>\n",
       "    </tr>\n",
       "  </tbody>\n",
       "</table>\n",
       "</div>"
      ],
      "text/plain": [
       "   Unnamed: 0 country                                        description  \\\n",
       "0           0   Italy  Fragrances suggest hay, crushed tomato vine an...   \n",
       "1           1  France  Packed with fruit and crisp acidity, this is a...   \n",
       "\n",
       "   designation  points  price            province    region_1 region_2  \\\n",
       "0  Kirchleiten      90   30.0  Northeastern Italy  Alto Adige      NaN   \n",
       "1          NaN      87   22.0        Loire Valley    Sancerre      NaN   \n",
       "\n",
       "     taster_name taster_twitter_handle  \\\n",
       "0  Kerin O’Keefe          @kerinokeefe   \n",
       "1     Roger Voss            @vossroger   \n",
       "\n",
       "                                               title    variety  \\\n",
       "0  Tiefenbrunner 2012 Kirchleiten Sauvignon (Alto...  Sauvignon   \n",
       "1       Bernard Reverdy et Fils 2014 Rosé (Sancerre)       Rosé   \n",
       "\n",
       "                    winery  \n",
       "0            Tiefenbrunner  \n",
       "1  Bernard Reverdy et Fils  "
      ]
     },
     "execution_count": 26,
     "metadata": {},
     "output_type": "execute_result"
    }
   ],
   "source": [
    "PATH = os.path.abspath(os.path.join(os.getcwd(), os.pardir))\n",
    "\n",
    "data = pd.read_csv(PATH + '/data_root/raw/wine_dataset.csv')\n",
    "data.head(2)"
   ]
  },
  {
   "cell_type": "code",
   "execution_count": 27,
   "metadata": {
    "ExecuteTime": {
     "end_time": "2021-04-29T07:15:51.421052Z",
     "start_time": "2021-04-29T07:15:51.043948Z"
    }
   },
   "outputs": [],
   "source": [
    "coltocat = ['country', 'province', 'taster_name', 'region_1', 'region_2', 'variety']\n",
    "\n",
    "for col in coltocat:\n",
    "    data[col] = data[col].astype(\"category\")\n",
    "    \n",
    "year = []\n",
    "\n",
    "for i in range(data.shape[0]):\n",
    "    if len(re.findall(r'.*([1-3][0-9]{3})', data['title'][i])) == 0:\n",
    "        year.append(np.nan)\n",
    "    else:\n",
    "        year.append(int(re.findall(r'.*([1-3][0-9]{3})', data['title'][i])[0]))\n",
    "\n",
    "data['year'] = year\n",
    "data.loc[(data['year'] < 1900)&(data['year'] > 2021), 'year'] = np.nan\n",
    "\n",
    "coltouse = ['country', 'price', 'province', 'taster_name', 'region_1', 'region_2', 'variety', 'year']\n",
    "cat_features = ['country', 'province', 'taster_name', 'region_1', 'region_2', 'variety']"
   ]
  },
  {
   "cell_type": "code",
   "execution_count": 28,
   "metadata": {
    "ExecuteTime": {
     "end_time": "2021-04-29T07:15:51.437056Z",
     "start_time": "2021-04-29T07:15:51.422057Z"
    }
   },
   "outputs": [],
   "source": [
    "X_temp, X_test, y_temp, y_test = train_test_split(data[coltouse],\n",
    "                                                  data[['points']], \n",
    "                                                  stratify=data['points'],\n",
    "                                                  test_size=0.3, \n",
    "                                                  random_state=42)\n",
    "\n",
    "X_train, X_val, y_train, y_val = train_test_split(X_temp,\n",
    "                                                  y_temp,\n",
    "                                                  test_size=0.2, \n",
    "                                                  random_state=42)"
   ]
  },
  {
   "cell_type": "code",
   "execution_count": 29,
   "metadata": {
    "ExecuteTime": {
     "end_time": "2021-04-29T07:15:51.468061Z",
     "start_time": "2021-04-29T07:15:51.458051Z"
    }
   },
   "outputs": [],
   "source": [
    "params = {\n",
    "    'boosting_type': 'gbdt',\n",
    "    'objective': 'regression',\n",
    "    'learning_rate': 0.04,\n",
    "    'feature_fraction': 0.9,\n",
    "    'bagging_fraction': 0.8,\n",
    "    'bagging_freq': 5,\n",
    "    'verbose': 0\n",
    "}\n",
    "\n",
    "train_data = lgb.Dataset(X_train, \n",
    "                         y_train, \n",
    "                         categorical_feature=cat_features, \n",
    "                         free_raw_data=False)\n",
    "\n",
    "valid_data = lgb.Dataset(X_val, \n",
    "                         y_val, \n",
    "                         categorical_feature=cat_features, \n",
    "                         free_raw_data=False)"
   ]
  },
  {
   "cell_type": "code",
   "execution_count": 30,
   "metadata": {
    "ExecuteTime": {
     "end_time": "2021-04-29T07:15:52.121783Z",
     "start_time": "2021-04-29T07:15:51.906621Z"
    }
   },
   "outputs": [],
   "source": [
    "gbm = lgb.train(params, \n",
    "                train_data, \n",
    "                valid_sets=[valid_data], \n",
    "                verbose_eval=False, \n",
    "                categorical_feature=cat_features, \n",
    "                num_boost_round=1200,\n",
    "                early_stopping_rounds=100)\n",
    "\n",
    "y_pred = gbm.predict(X_test)"
   ]
  },
  {
   "cell_type": "code",
   "execution_count": 31,
   "metadata": {
    "ExecuteTime": {
     "end_time": "2021-04-29T07:15:52.294225Z",
     "start_time": "2021-04-29T07:15:52.287224Z"
    }
   },
   "outputs": [
    {
     "name": "stdout",
     "output_type": "stream",
     "text": [
      "MSE: 5.01\n",
      "MAE: 1.77\n"
     ]
    }
   ],
   "source": [
    "print(f'MSE: {mean_squared_error(y_test, y_pred):.2f}')\n",
    "print(f'MAE: {mean_absolute_error(y_test, y_pred):.2f}')"
   ]
  },
  {
   "cell_type": "code",
   "execution_count": 32,
   "metadata": {
    "ExecuteTime": {
     "end_time": "2021-04-29T07:15:52.946216Z",
     "start_time": "2021-04-29T07:15:52.773166Z"
    }
   },
   "outputs": [
    {
     "data": {
      "image/png": "[encoded data removed]",
      "text/plain": [
       "<Figure size 576x432 with 1 Axes>"
      ]
     },
     "metadata": {},
     "output_type": "display_data"
    }
   ],
   "source": [
    "feature_imp = pd.DataFrame({'Value':gbm.feature_importance(),'Feature':X_train.columns})\n",
    "\n",
    "plt.figure(figsize=(8, 6))\n",
    "sns.barplot(x=\"Value\", y=\"Feature\", data=feature_imp.sort_values(by=\"Value\", \n",
    "                                                    ascending=False), palette=\"gray\")\n",
    "plt.title('LGBM Feature Importance')\n",
    "plt.show()"
   ]
  },
  {
   "cell_type": "code",
   "execution_count": 39,
   "metadata": {
    "ExecuteTime": {
     "end_time": "2021-04-29T07:17:21.108674Z",
     "start_time": "2021-04-29T07:17:20.359498Z"
    }
   },
   "outputs": [
    {
     "data": {
      "image/png": "[encoded data removed]",
      "text/plain": [
       "<Figure size 432x288 with 1 Axes>"
      ]
     },
     "metadata": {},
     "output_type": "display_data"
    },
    {
     "data": {
      "image/png": "[encoded data removed]",
      "text/plain": [
       "<Figure size 432x288 with 1 Axes>"
      ]
     },
     "metadata": {},
     "output_type": "display_data"
    },
    {
     "data": {
      "image/png": "[encoded data removed]",
      "text/plain": [
       "<Figure size 576x432 with 1 Axes>"
      ]
     },
     "metadata": {},
     "output_type": "display_data"
    }
   ],
   "source": [
    "residuals_lgb = y_test.values - y_pred.reshape(-1, 1)\n",
    "\n",
    "plt.figure(figsize=(6, 4))\n",
    "plt.hist(residuals_lgb, bins=30)\n",
    "plt.xlabel(\"Residuals\")\n",
    "plt.ylabel(\"Freq\")\n",
    "plt.title(f\"Residuals distribution for lgb\")\n",
    "plt.show()\n",
    "\n",
    "plt.figure(figsize=(6, 4))\n",
    "plt.hist(residuals_lr, bins=30, color='r')\n",
    "plt.xlabel(\"Residuals\")\n",
    "plt.ylabel(\"Freq\")\n",
    "plt.title(f\"Residuals distribution for lr\")\n",
    "plt.show()\n",
    "\n",
    "plt.figure(figsize=(8, 6))\n",
    "plt.hist(residuals_lgb, bins=30)\n",
    "plt.hist(residuals_lr, bins=30, color='red', alpha=0.5)\n",
    "plt.xlabel(\"Residuals\")\n",
    "plt.ylabel(\"Freq\")\n",
    "plt.title(f\"Residuals distribution for both models\")\n",
    "plt.legend(['Lgb model', 'Linear model'])\n",
    "# plt.savefig('temp.png')\n",
    "plt.show()"
   ]
  },
  {
   "cell_type": "code",
   "execution_count": 3,
   "metadata": {
    "ExecuteTime": {
     "end_time": "2021-04-29T23:08:56.799012Z",
     "start_time": "2021-04-29T23:08:56.780984Z"
    }
   },
   "outputs": [
    {
     "data": {
      "text/html": [
       "<div>\n",
       "<style scoped>\n",
       "    .dataframe tbody tr th:only-of-type {\n",
       "        vertical-align: middle;\n",
       "    }\n",
       "\n",
       "    .dataframe tbody tr th {\n",
       "        vertical-align: top;\n",
       "    }\n",
       "\n",
       "    .dataframe thead th {\n",
       "        text-align: right;\n",
       "    }\n",
       "</style>\n",
       "<table border=\"1\" class=\"dataframe\">\n",
       "  <thead>\n",
       "    <tr style=\"text-align: right;\">\n",
       "      <th></th>\n",
       "      <th>score</th>\n",
       "      <th>metrics</th>\n",
       "      <th>model</th>\n",
       "    </tr>\n",
       "  </thead>\n",
       "  <tbody>\n",
       "    <tr>\n",
       "      <th>0</th>\n",
       "      <td>1.96</td>\n",
       "      <td>MAE</td>\n",
       "      <td>Linear</td>\n",
       "    </tr>\n",
       "    <tr>\n",
       "      <th>1</th>\n",
       "      <td>6.00</td>\n",
       "      <td>MSE</td>\n",
       "      <td>Linear</td>\n",
       "    </tr>\n",
       "    <tr>\n",
       "      <th>2</th>\n",
       "      <td>1.82</td>\n",
       "      <td>MAE</td>\n",
       "      <td>Lightgbm</td>\n",
       "    </tr>\n",
       "    <tr>\n",
       "      <th>3</th>\n",
       "      <td>5.13</td>\n",
       "      <td>MSE</td>\n",
       "      <td>Lightgbm</td>\n",
       "    </tr>\n",
       "  </tbody>\n",
       "</table>\n",
       "</div>"
      ],
      "text/plain": [
       "   score metrics     model\n",
       "0   1.96     MAE    Linear\n",
       "1   6.00     MSE    Linear\n",
       "2   1.82     MAE  Lightgbm\n",
       "3   5.13     MSE  Lightgbm"
      ]
     },
     "execution_count": 3,
     "metadata": {},
     "output_type": "execute_result"
    }
   ],
   "source": [
    "scores = {'score':[1.96, 6.00, 1.82, 5.13], \n",
    "          'metrics':['MAE', 'MSE', 'MAE', 'MSE'], \n",
    "          'model':['Linear', 'Linear', 'Lightgbm', 'Lightgbm']}\n",
    "\n",
    "s = pd.DataFrame(scores)\n",
    "s.head()"
   ]
  },
  {
   "cell_type": "code",
   "execution_count": 4,
   "metadata": {
    "ExecuteTime": {
     "end_time": "2021-04-29T23:09:00.873267Z",
     "start_time": "2021-04-29T23:09:00.679751Z"
    }
   },
   "outputs": [
    {
     "data": {
      "image/png": "[encoded data removed]",
      "text/plain": [
       "<Figure size 432x288 with 1 Axes>"
      ]
     },
     "metadata": {},
     "output_type": "display_data"
    }
   ],
   "source": [
    "plt.figure(figsize=(6, 4))\n",
    "sns.barplot(x=\"metrics\", y=\"score\", hue=\"model\", data=s, palette=['r', 'b'], saturation=1)\n",
    "plt.title('Scores of models')\n",
    "plt.legend(loc=2)\n",
    "plt.savefig('temp.png', dpi=250)\n",
    "plt.show()"
   ]
  },
  {
   "cell_type": "code",
   "execution_count": null,
   "metadata": {},
   "outputs": [],
   "source": []
  }
 ],
 "metadata": {
  "kernelspec": {
   "display_name": "Python 3",
   "language": "python",
   "name": "python3"
  },
  "language_info": {
   "codemirror_mode": {
    "name": "ipython",
    "version": 3
   },
   "file_extension": ".py",
   "mimetype": "text/x-python",
   "name": "python",
   "nbconvert_exporter": "python",
   "pygments_lexer": "ipython3",
   "version": "3.7.6"
  }
 },
 "nbformat": 4,
 "nbformat_minor": 4
}
